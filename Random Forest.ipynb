{
 "cells": [
  {
   "cell_type": "code",
   "execution_count": 1,
   "metadata": {},
   "outputs": [],
   "source": [
    "import pandas as pd\n",
    "import numpy as np\n",
    "from sklearn.model_selection import train_test_split\n",
    "from sklearn.ensemble import RandomForestClassifier\n",
    "from sklearn.preprocessing import MinMaxScaler\n",
    "from sklearn import preprocessing\n",
    "from sklearn.metrics import accuracy_score"
   ]
  },
  {
   "cell_type": "code",
   "execution_count": 2,
   "metadata": {},
   "outputs": [],
   "source": [
    "df = pd.read_csv('C:/Users/admin/Desktop/final_data_2013.csv')"
   ]
  },
  {
   "cell_type": "code",
   "execution_count": 3,
   "metadata": {},
   "outputs": [],
   "source": [
    "df = df.replace([np.inf, -np.inf], np.nan).dropna()"
   ]
  },
  {
   "cell_type": "code",
   "execution_count": 4,
   "metadata": {},
   "outputs": [
    {
     "data": {
      "text/plain": [
       "Index(['normalized_name', 'success', 'funding_rounds', 'funding_total_usd',\n",
       "       'milestones', 'relationships', 'PopulationEstimate-2013',\n",
       "       'PopulationGrowth ', 'private_eq', 'crowd_eq', 'Round_1_amount',\n",
       "       'Round_2_amount', 'Round_3_amount', 'Round_4_amount', 'Round_5_amount',\n",
       "       'Round_6_amount', 'Venture_Capital', 'investor_participants',\n",
       "       'FounderCounter', 'C_Level_Counter', 'school_counter', 'count_degrees',\n",
       "       'dropout_fg', 'female_fg', 'MBA_fg', 'state_ranked',\n",
       "       'city_ranked_other_city', 'city_ranked_top_five_city',\n",
       "       'city_ranked_top_ten_city', 'round1_fg', 'round2_fg', 'round3_fg',\n",
       "       'round4_fg', 'round5_fg', 'round6_fg', 'venture_capital_fg',\n",
       "       'private_eq_fg', 'crowd_eq_fg', 'round1_missing_fg',\n",
       "       'round2_missing_fg', 'round3_missing_fg', 'round4_missing_fg',\n",
       "       'round5_missing_fg', 'software', 'biotech', 'enterprise', 'web',\n",
       "       'mobile', 'advertising', 'ecommerce', 'analytics', 'games_video',\n",
       "       'cleantech', 'other_category', 'age', 'funding_velocity',\n",
       "       'day_since_last_funding'],\n",
       "      dtype='object')"
      ]
     },
     "execution_count": 4,
     "metadata": {},
     "output_type": "execute_result"
    }
   ],
   "source": [
    "df.columns"
   ]
  },
  {
   "cell_type": "code",
   "execution_count": 5,
   "metadata": {},
   "outputs": [],
   "source": [
    "array = df.values"
   ]
  },
  {
   "cell_type": "code",
   "execution_count": 6,
   "metadata": {},
   "outputs": [],
   "source": [
    "X = array[:,2:]"
   ]
  },
  {
   "cell_type": "code",
   "execution_count": 7,
   "metadata": {},
   "outputs": [
    {
     "data": {
      "text/plain": [
       "array([3, 39750000, 5, 17.0, 654224.0, 0.07137605, 0, 0, 0, 5250000,\n",
       "       9500000, 25000000, 0, 0, 0, 4.0, 5.0, 3.0, 1.0, 4.0, 1.0, 0, 1, 0,\n",
       "       0, 0, 1, 0, 1, 1, 1, 0, 0, 0, 0, 0, 1, 0, 0, 0, 1, 0, 0, 0, 1, 0,\n",
       "       0, 0, 0, 0, 0, 0, 8.210958904, 4841091.091, 4243], dtype=object)"
      ]
     },
     "execution_count": 7,
     "metadata": {},
     "output_type": "execute_result"
    }
   ],
   "source": [
    "X[0]"
   ]
  },
  {
   "cell_type": "code",
   "execution_count": 8,
   "metadata": {},
   "outputs": [],
   "source": [
    "Y = array[:,1]"
   ]
  },
  {
   "cell_type": "code",
   "execution_count": 9,
   "metadata": {},
   "outputs": [],
   "source": [
    "Y=Y.astype('int')"
   ]
  },
  {
   "cell_type": "code",
   "execution_count": 10,
   "metadata": {},
   "outputs": [],
   "source": [
    "test_size = 0.25\n",
    "seed = 42"
   ]
  },
  {
   "cell_type": "code",
   "execution_count": 11,
   "metadata": {},
   "outputs": [],
   "source": [
    "# select 1/5 randomly and split\n",
    "X_train, X_test, Y_train, Y_test = train_test_split(X, Y, test_size= test_size, random_state= seed)"
   ]
  },
  {
   "cell_type": "code",
   "execution_count": 12,
   "metadata": {},
   "outputs": [
    {
     "name": "stdout",
     "output_type": "stream",
     "text": [
      "Training Features Shape: (10603, 55)\n",
      "Training Labels Shape: (10603,)\n",
      "Testing Features Shape: (3535, 55)\n",
      "Testing Labels Shape: (3535,)\n"
     ]
    }
   ],
   "source": [
    "print('Training Features Shape:', X_train.shape)\n",
    "print('Training Labels Shape:', Y_train.shape)\n",
    "print('Testing Features Shape:', X_test.shape)\n",
    "print('Testing Labels Shape:', Y_test.shape)"
   ]
  },
  {
   "cell_type": "code",
   "execution_count": 13,
   "metadata": {},
   "outputs": [],
   "source": [
    "minmaxScaler = preprocessing.MinMaxScaler()"
   ]
  },
  {
   "cell_type": "code",
   "execution_count": 14,
   "metadata": {},
   "outputs": [],
   "source": [
    "# standardize\n",
    "minmaxScaler.fit(X_train)\n",
    "rescaledX_train = minmaxScaler.transform(X_train)"
   ]
  },
  {
   "cell_type": "markdown",
   "metadata": {},
   "source": [
    "# Default RandomForest"
   ]
  },
  {
   "cell_type": "code",
   "execution_count": 15,
   "metadata": {},
   "outputs": [
    {
     "data": {
      "text/plain": [
       "RandomForestClassifier(bootstrap=True, ccp_alpha=0.0, class_weight=None,\n",
       "                       criterion='gini', max_depth=None, max_features='auto',\n",
       "                       max_leaf_nodes=None, max_samples=None,\n",
       "                       min_impurity_decrease=0.0, min_impurity_split=None,\n",
       "                       min_samples_leaf=1, min_samples_split=2,\n",
       "                       min_weight_fraction_leaf=0.0, n_estimators=100,\n",
       "                       n_jobs=None, oob_score=False, random_state=63, verbose=0,\n",
       "                       warm_start=False)"
      ]
     },
     "execution_count": 15,
     "metadata": {},
     "output_type": "execute_result"
    }
   ],
   "source": [
    "rf = RandomForestClassifier(random_state = 63)\n",
    "# Train the model on training data\n",
    "rf.fit(rescaledX_train, Y_train)"
   ]
  },
  {
   "cell_type": "code",
   "execution_count": 16,
   "metadata": {},
   "outputs": [],
   "source": [
    "X_test_min_max = minmaxScaler.transform(X_test)"
   ]
  },
  {
   "cell_type": "code",
   "execution_count": 17,
   "metadata": {},
   "outputs": [],
   "source": [
    "pred = rf.predict(X_test_min_max)"
   ]
  },
  {
   "cell_type": "code",
   "execution_count": 18,
   "metadata": {},
   "outputs": [
    {
     "data": {
      "text/plain": [
       "array([1, 0, 0, ..., 0, 0, 0])"
      ]
     },
     "execution_count": 18,
     "metadata": {},
     "output_type": "execute_result"
    }
   ],
   "source": [
    "pred"
   ]
  },
  {
   "cell_type": "code",
   "execution_count": 19,
   "metadata": {},
   "outputs": [
    {
     "data": {
      "text/plain": [
       "0.7671852899575672"
      ]
     },
     "execution_count": 19,
     "metadata": {},
     "output_type": "execute_result"
    }
   ],
   "source": [
    "accuracy_score(Y_test, pred)"
   ]
  },
  {
   "cell_type": "code",
   "execution_count": 20,
   "metadata": {},
   "outputs": [],
   "source": [
    "from sklearn.metrics import classification_report\n",
    "from sklearn.metrics import confusion_matrix"
   ]
  },
  {
   "cell_type": "code",
   "execution_count": 21,
   "metadata": {},
   "outputs": [
    {
     "name": "stdout",
     "output_type": "stream",
     "text": [
      "[[2571  137]\n",
      " [ 686  141]]\n",
      "              precision    recall  f1-score   support\n",
      "\n",
      "           0       0.79      0.95      0.86      2708\n",
      "           1       0.51      0.17      0.26       827\n",
      "\n",
      "    accuracy                           0.77      3535\n",
      "   macro avg       0.65      0.56      0.56      3535\n",
      "weighted avg       0.72      0.77      0.72      3535\n",
      "\n"
     ]
    }
   ],
   "source": [
    "print(confusion_matrix(Y_test,pred))\n",
    "print(classification_report(Y_test, pred))"
   ]
  },
  {
   "cell_type": "code",
   "execution_count": 22,
   "metadata": {},
   "outputs": [],
   "source": [
    "from sklearn.metrics import roc_curve\n",
    "from sklearn.metrics import roc_auc_score\n",
    "from matplotlib import pyplot"
   ]
  },
  {
   "cell_type": "code",
   "execution_count": 23,
   "metadata": {},
   "outputs": [],
   "source": [
    "# generate a no skill prediction (majority class)\n",
    "ns_probs = [0 for _ in range(len(Y_test))]\n",
    "lr_probs = rf.predict_proba(X_test)\n",
    "lr_probs = lr_probs[:, 1]\n",
    "# calculate scores\n",
    "ns_auc = roc_auc_score(Y_test, ns_probs)\n",
    "lr_auc = roc_auc_score(Y_test, lr_probs)"
   ]
  },
  {
   "cell_type": "code",
   "execution_count": 24,
   "metadata": {},
   "outputs": [
    {
     "name": "stdout",
     "output_type": "stream",
     "text": [
      "No Skill: ROC AUC=0.500\n",
      "Logistic: ROC AUC=0.604\n"
     ]
    }
   ],
   "source": [
    "print('No Skill: ROC AUC=%.3f' % (ns_auc))\n",
    "print('Logistic: ROC AUC=%.3f' % (lr_auc))"
   ]
  },
  {
   "cell_type": "code",
   "execution_count": 25,
   "metadata": {},
   "outputs": [
    {
     "data": {
      "image/png": "[encoded data removed]",
      "text/plain": [
       "<Figure size 432x288 with 1 Axes>"
      ]
     },
     "metadata": {
      "needs_background": "light"
     },
     "output_type": "display_data"
    }
   ],
   "source": [
    "# calculate roc curves\n",
    "ns_fpr, ns_tpr, _ = roc_curve(Y_test, ns_probs)\n",
    "lr_fpr, lr_tpr, _ = roc_curve(Y_test, lr_probs)\n",
    "# plot the roc curve for the model\n",
    "pyplot.plot(ns_fpr, ns_tpr, linestyle='--', label='Naive')\n",
    "pyplot.plot(lr_fpr, lr_tpr, marker='.', label='Logistic')\n",
    "# axis labels\n",
    "pyplot.xlabel('False Positive Rate')\n",
    "pyplot.ylabel('True Positive Rate')\n",
    "# show the legend\n",
    "pyplot.legend()\n",
    "# show the plot\n",
    "pyplot.show()"
   ]
  },
  {
   "cell_type": "code",
   "execution_count": 26,
   "metadata": {},
   "outputs": [],
   "source": [
    "import shap\n",
    "import matplotlib.pyplot as plt\n",
    "%matplotlib inline\n",
    "import warnings\n",
    "warnings.filterwarnings('ignore')"
   ]
  },
  {
   "cell_type": "code",
   "execution_count": 27,
   "metadata": {},
   "outputs": [],
   "source": [
    "column_name = list(df.columns) \n",
    "columns = column_name[2:]"
   ]
  },
  {
   "cell_type": "code",
   "execution_count": 28,
   "metadata": {},
   "outputs": [
    {
     "data": {
      "image/png": "[encoded data removed]",
      "text/plain": [
       "<Figure size 576x684 with 1 Axes>"
      ]
     },
     "metadata": {
      "needs_background": "light"
     },
     "output_type": "display_data"
    }
   ],
   "source": [
    "explainer1 = shap.TreeExplainer(rf)\n",
    "shap_values = explainer1.shap_values(rescaledX_train)\n",
    "shap.summary_plot(shap_values, features=rescaledX_train, feature_names=columns)"
   ]
  },
  {
   "cell_type": "markdown",
   "metadata": {},
   "source": [
    "# GridSearchCV"
   ]
  },
  {
   "cell_type": "code",
   "execution_count": 91,
   "metadata": {},
   "outputs": [],
   "source": [
    "from sklearn.model_selection import GridSearchCV\n",
    "from sklearn.model_selection import KFold"
   ]
  },
  {
   "cell_type": "code",
   "execution_count": 92,
   "metadata": {},
   "outputs": [
    {
     "name": "stderr",
     "output_type": "stream",
     "text": [
      "C:\\Users\\admin\\Anaconda3\\lib\\site-packages\\sklearn\\model_selection\\_split.py:296: FutureWarning: Setting a random_state has no effect since shuffle is False. This will raise an error in 0.24. You should leave random_state to its default (None), or set shuffle=True.\n",
      "  FutureWarning\n"
     ]
    }
   ],
   "source": [
    "# scoring\n",
    "scoring = \"neg_mean_squared_error\"\n",
    "num_folds = 10\n",
    "kfold = KFold(n_splits = num_folds, random_state = seed)"
   ]
  },
  {
   "cell_type": "code",
   "execution_count": 93,
   "metadata": {},
   "outputs": [],
   "source": [
    "param_grid = {\n",
    "    'n_estimators': [10,25,50],\n",
    "    'max_depth': [2,5,10,15],\n",
    "    'max_features': [4,8,12],\n",
    "    'min_samples_split':[3,4,5],\n",
    "}"
   ]
  },
  {
   "cell_type": "code",
   "execution_count": 94,
   "metadata": {},
   "outputs": [],
   "source": [
    "model= RandomForestClassifier()"
   ]
  },
  {
   "cell_type": "code",
   "execution_count": 95,
   "metadata": {},
   "outputs": [],
   "source": [
    "grid = GridSearchCV(estimator = model, param_grid = param_grid, scoring= scoring, cv= kfold)"
   ]
  },
  {
   "cell_type": "code",
   "execution_count": 96,
   "metadata": {},
   "outputs": [],
   "source": [
    "grid_result = grid.fit(rescaledX_train, Y_train)"
   ]
  },
  {
   "cell_type": "code",
   "execution_count": 97,
   "metadata": {},
   "outputs": [
    {
     "name": "stdout",
     "output_type": "stream",
     "text": [
      "Best: -0.270269 using {'max_depth': 5, 'max_features': 4, 'min_samples_split': 4, 'n_estimators': 10}\n"
     ]
    }
   ],
   "source": [
    "print(\"Best: %f using %s\" % (grid_result.best_score_, grid_result.best_params_))"
   ]
  },
  {
   "cell_type": "code",
   "execution_count": 98,
   "metadata": {},
   "outputs": [
    {
     "name": "stdout",
     "output_type": "stream",
     "text": [
      "-0.278187 (0.019478) with {'max_depth': 2, 'max_features': 4, 'min_samples_split': 3, 'n_estimators': 10}\n",
      "-0.281918 (0.019159) with {'max_depth': 2, 'max_features': 4, 'min_samples_split': 3, 'n_estimators': 25}\n",
      "-0.280518 (0.020452) with {'max_depth': 2, 'max_features': 4, 'min_samples_split': 3, 'n_estimators': 50}\n",
      "-0.278425 (0.017147) with {'max_depth': 2, 'max_features': 4, 'min_samples_split': 4, 'n_estimators': 10}\n",
      "-0.280520 (0.019608) with {'max_depth': 2, 'max_features': 4, 'min_samples_split': 4, 'n_estimators': 25}\n",
      "-0.280985 (0.018658) with {'max_depth': 2, 'max_features': 4, 'min_samples_split': 4, 'n_estimators': 50}\n",
      "-0.277723 (0.020663) with {'max_depth': 2, 'max_features': 4, 'min_samples_split': 5, 'n_estimators': 10}\n",
      "-0.280519 (0.020361) with {'max_depth': 2, 'max_features': 4, 'min_samples_split': 5, 'n_estimators': 25}\n",
      "-0.278888 (0.018733) with {'max_depth': 2, 'max_features': 4, 'min_samples_split': 5, 'n_estimators': 50}\n",
      "-0.277490 (0.021995) with {'max_depth': 2, 'max_features': 8, 'min_samples_split': 3, 'n_estimators': 10}\n",
      "-0.276326 (0.018429) with {'max_depth': 2, 'max_features': 8, 'min_samples_split': 3, 'n_estimators': 25}\n",
      "-0.277956 (0.020752) with {'max_depth': 2, 'max_features': 8, 'min_samples_split': 3, 'n_estimators': 50}\n",
      "-0.276095 (0.017695) with {'max_depth': 2, 'max_features': 8, 'min_samples_split': 4, 'n_estimators': 10}\n",
      "-0.277024 (0.019853) with {'max_depth': 2, 'max_features': 8, 'min_samples_split': 4, 'n_estimators': 25}\n",
      "-0.277489 (0.020505) with {'max_depth': 2, 'max_features': 8, 'min_samples_split': 4, 'n_estimators': 50}\n",
      "-0.277958 (0.022914) with {'max_depth': 2, 'max_features': 8, 'min_samples_split': 5, 'n_estimators': 10}\n",
      "-0.276096 (0.019536) with {'max_depth': 2, 'max_features': 8, 'min_samples_split': 5, 'n_estimators': 25}\n",
      "-0.275628 (0.018712) with {'max_depth': 2, 'max_features': 8, 'min_samples_split': 5, 'n_estimators': 50}\n",
      "-0.278659 (0.019517) with {'max_depth': 2, 'max_features': 12, 'min_samples_split': 3, 'n_estimators': 10}\n",
      "-0.277957 (0.020867) with {'max_depth': 2, 'max_features': 12, 'min_samples_split': 3, 'n_estimators': 25}\n",
      "-0.277492 (0.021900) with {'max_depth': 2, 'max_features': 12, 'min_samples_split': 3, 'n_estimators': 50}\n",
      "-0.277259 (0.023769) with {'max_depth': 2, 'max_features': 12, 'min_samples_split': 4, 'n_estimators': 10}\n",
      "-0.275397 (0.020128) with {'max_depth': 2, 'max_features': 12, 'min_samples_split': 4, 'n_estimators': 25}\n",
      "-0.275861 (0.022766) with {'max_depth': 2, 'max_features': 12, 'min_samples_split': 4, 'n_estimators': 50}\n",
      "-0.277496 (0.021794) with {'max_depth': 2, 'max_features': 12, 'min_samples_split': 5, 'n_estimators': 10}\n",
      "-0.275395 (0.023008) with {'max_depth': 2, 'max_features': 12, 'min_samples_split': 5, 'n_estimators': 25}\n",
      "-0.275862 (0.021251) with {'max_depth': 2, 'max_features': 12, 'min_samples_split': 5, 'n_estimators': 50}\n",
      "-0.277496 (0.016436) with {'max_depth': 5, 'max_features': 4, 'min_samples_split': 3, 'n_estimators': 10}\n",
      "-0.275398 (0.016661) with {'max_depth': 5, 'max_features': 4, 'min_samples_split': 3, 'n_estimators': 25}\n",
      "-0.274696 (0.016669) with {'max_depth': 5, 'max_features': 4, 'min_samples_split': 3, 'n_estimators': 50}\n",
      "-0.270269 (0.019647) with {'max_depth': 5, 'max_features': 4, 'min_samples_split': 4, 'n_estimators': 10}\n",
      "-0.274464 (0.016598) with {'max_depth': 5, 'max_features': 4, 'min_samples_split': 4, 'n_estimators': 25}\n",
      "-0.271903 (0.017488) with {'max_depth': 5, 'max_features': 4, 'min_samples_split': 4, 'n_estimators': 50}\n",
      "-0.276794 (0.017080) with {'max_depth': 5, 'max_features': 4, 'min_samples_split': 5, 'n_estimators': 10}\n",
      "-0.276099 (0.017935) with {'max_depth': 5, 'max_features': 4, 'min_samples_split': 5, 'n_estimators': 25}\n",
      "-0.271204 (0.017957) with {'max_depth': 5, 'max_features': 4, 'min_samples_split': 5, 'n_estimators': 50}\n",
      "-0.273769 (0.018984) with {'max_depth': 5, 'max_features': 8, 'min_samples_split': 3, 'n_estimators': 10}\n",
      "-0.275864 (0.017713) with {'max_depth': 5, 'max_features': 8, 'min_samples_split': 3, 'n_estimators': 25}\n",
      "-0.273072 (0.016621) with {'max_depth': 5, 'max_features': 8, 'min_samples_split': 3, 'n_estimators': 50}\n",
      "-0.274467 (0.014670) with {'max_depth': 5, 'max_features': 8, 'min_samples_split': 4, 'n_estimators': 10}\n",
      "-0.271207 (0.017605) with {'max_depth': 5, 'max_features': 8, 'min_samples_split': 4, 'n_estimators': 25}\n",
      "-0.271439 (0.016343) with {'max_depth': 5, 'max_features': 8, 'min_samples_split': 4, 'n_estimators': 50}\n",
      "-0.271436 (0.016434) with {'max_depth': 5, 'max_features': 8, 'min_samples_split': 5, 'n_estimators': 10}\n",
      "-0.273074 (0.019567) with {'max_depth': 5, 'max_features': 8, 'min_samples_split': 5, 'n_estimators': 25}\n",
      "-0.274000 (0.015979) with {'max_depth': 5, 'max_features': 8, 'min_samples_split': 5, 'n_estimators': 50}\n",
      "-0.271671 (0.014798) with {'max_depth': 5, 'max_features': 12, 'min_samples_split': 3, 'n_estimators': 10}\n",
      "-0.275168 (0.017243) with {'max_depth': 5, 'max_features': 12, 'min_samples_split': 3, 'n_estimators': 25}\n",
      "-0.272839 (0.017379) with {'max_depth': 5, 'max_features': 12, 'min_samples_split': 3, 'n_estimators': 50}\n",
      "-0.274235 (0.017528) with {'max_depth': 5, 'max_features': 12, 'min_samples_split': 4, 'n_estimators': 10}\n",
      "-0.273768 (0.018798) with {'max_depth': 5, 'max_features': 12, 'min_samples_split': 4, 'n_estimators': 25}\n",
      "-0.274003 (0.019208) with {'max_depth': 5, 'max_features': 12, 'min_samples_split': 4, 'n_estimators': 50}\n",
      "-0.271902 (0.017444) with {'max_depth': 5, 'max_features': 12, 'min_samples_split': 5, 'n_estimators': 10}\n",
      "-0.276562 (0.017363) with {'max_depth': 5, 'max_features': 12, 'min_samples_split': 5, 'n_estimators': 25}\n",
      "-0.274233 (0.018811) with {'max_depth': 5, 'max_features': 12, 'min_samples_split': 5, 'n_estimators': 50}\n",
      "-0.278189 (0.014194) with {'max_depth': 10, 'max_features': 4, 'min_samples_split': 3, 'n_estimators': 10}\n",
      "-0.273299 (0.019724) with {'max_depth': 10, 'max_features': 4, 'min_samples_split': 3, 'n_estimators': 25}\n",
      "-0.277957 (0.019803) with {'max_depth': 10, 'max_features': 4, 'min_samples_split': 3, 'n_estimators': 50}\n",
      "-0.281918 (0.024555) with {'max_depth': 10, 'max_features': 4, 'min_samples_split': 4, 'n_estimators': 10}\n",
      "-0.273999 (0.016169) with {'max_depth': 10, 'max_features': 4, 'min_samples_split': 4, 'n_estimators': 25}\n",
      "-0.276791 (0.022066) with {'max_depth': 10, 'max_features': 4, 'min_samples_split': 4, 'n_estimators': 50}\n",
      "-0.278652 (0.027496) with {'max_depth': 10, 'max_features': 4, 'min_samples_split': 5, 'n_estimators': 10}\n",
      "-0.277489 (0.016058) with {'max_depth': 10, 'max_features': 4, 'min_samples_split': 5, 'n_estimators': 25}\n",
      "-0.273996 (0.020479) with {'max_depth': 10, 'max_features': 4, 'min_samples_split': 5, 'n_estimators': 50}\n",
      "-0.278658 (0.016412) with {'max_depth': 10, 'max_features': 8, 'min_samples_split': 3, 'n_estimators': 10}\n",
      "-0.276563 (0.018930) with {'max_depth': 10, 'max_features': 8, 'min_samples_split': 3, 'n_estimators': 25}\n",
      "-0.274695 (0.016227) with {'max_depth': 10, 'max_features': 8, 'min_samples_split': 3, 'n_estimators': 50}\n",
      "-0.284014 (0.019528) with {'max_depth': 10, 'max_features': 8, 'min_samples_split': 4, 'n_estimators': 10}\n",
      "-0.273998 (0.015249) with {'max_depth': 10, 'max_features': 8, 'min_samples_split': 4, 'n_estimators': 25}\n",
      "-0.280292 (0.021021) with {'max_depth': 10, 'max_features': 8, 'min_samples_split': 4, 'n_estimators': 50}\n",
      "-0.286812 (0.021057) with {'max_depth': 10, 'max_features': 8, 'min_samples_split': 5, 'n_estimators': 10}\n",
      "-0.280986 (0.019226) with {'max_depth': 10, 'max_features': 8, 'min_samples_split': 5, 'n_estimators': 25}\n",
      "-0.278192 (0.019638) with {'max_depth': 10, 'max_features': 8, 'min_samples_split': 5, 'n_estimators': 50}\n",
      "-0.285880 (0.024299) with {'max_depth': 10, 'max_features': 12, 'min_samples_split': 3, 'n_estimators': 10}\n",
      "-0.280987 (0.022393) with {'max_depth': 10, 'max_features': 12, 'min_samples_split': 3, 'n_estimators': 25}\n",
      "-0.272600 (0.018823) with {'max_depth': 10, 'max_features': 12, 'min_samples_split': 3, 'n_estimators': 50}\n",
      "-0.289368 (0.024281) with {'max_depth': 10, 'max_features': 12, 'min_samples_split': 4, 'n_estimators': 10}\n",
      "-0.281224 (0.015621) with {'max_depth': 10, 'max_features': 12, 'min_samples_split': 4, 'n_estimators': 25}\n",
      "-0.273302 (0.016981) with {'max_depth': 10, 'max_features': 12, 'min_samples_split': 4, 'n_estimators': 50}\n",
      "-0.280989 (0.022354) with {'max_depth': 10, 'max_features': 12, 'min_samples_split': 5, 'n_estimators': 10}\n",
      "-0.279582 (0.019548) with {'max_depth': 10, 'max_features': 12, 'min_samples_split': 5, 'n_estimators': 25}\n",
      "-0.273997 (0.018485) with {'max_depth': 10, 'max_features': 12, 'min_samples_split': 5, 'n_estimators': 50}\n",
      "-0.291474 (0.018708) with {'max_depth': 15, 'max_features': 4, 'min_samples_split': 3, 'n_estimators': 10}\n",
      "-0.282847 (0.021952) with {'max_depth': 15, 'max_features': 4, 'min_samples_split': 3, 'n_estimators': 25}\n",
      "-0.278890 (0.017847) with {'max_depth': 15, 'max_features': 4, 'min_samples_split': 3, 'n_estimators': 50}\n",
      "-0.294966 (0.017395) with {'max_depth': 15, 'max_features': 4, 'min_samples_split': 4, 'n_estimators': 10}\n",
      "-0.281682 (0.021986) with {'max_depth': 15, 'max_features': 4, 'min_samples_split': 4, 'n_estimators': 25}\n",
      "-0.277025 (0.014715) with {'max_depth': 15, 'max_features': 4, 'min_samples_split': 4, 'n_estimators': 50}\n",
      "-0.292177 (0.021339) with {'max_depth': 15, 'max_features': 4, 'min_samples_split': 5, 'n_estimators': 10}\n",
      "-0.274466 (0.016739) with {'max_depth': 15, 'max_features': 4, 'min_samples_split': 5, 'n_estimators': 25}\n",
      "-0.273536 (0.020661) with {'max_depth': 15, 'max_features': 4, 'min_samples_split': 5, 'n_estimators': 50}\n",
      "-0.299625 (0.019888) with {'max_depth': 15, 'max_features': 8, 'min_samples_split': 3, 'n_estimators': 10}\n",
      "-0.285874 (0.019285) with {'max_depth': 15, 'max_features': 8, 'min_samples_split': 3, 'n_estimators': 25}\n",
      "-0.276562 (0.018157) with {'max_depth': 15, 'max_features': 8, 'min_samples_split': 3, 'n_estimators': 50}\n",
      "-0.292399 (0.024844) with {'max_depth': 15, 'max_features': 8, 'min_samples_split': 4, 'n_estimators': 10}\n",
      "-0.278658 (0.021749) with {'max_depth': 15, 'max_features': 8, 'min_samples_split': 4, 'n_estimators': 25}\n",
      "-0.273530 (0.021415) with {'max_depth': 15, 'max_features': 8, 'min_samples_split': 4, 'n_estimators': 50}\n",
      "-0.290767 (0.016007) with {'max_depth': 15, 'max_features': 8, 'min_samples_split': 5, 'n_estimators': 10}\n",
      "-0.280283 (0.017499) with {'max_depth': 15, 'max_features': 8, 'min_samples_split': 5, 'n_estimators': 25}\n",
      "-0.278890 (0.019171) with {'max_depth': 15, 'max_features': 8, 'min_samples_split': 5, 'n_estimators': 50}\n",
      "-0.300788 (0.020480) with {'max_depth': 15, 'max_features': 12, 'min_samples_split': 3, 'n_estimators': 10}\n",
      "-0.280518 (0.019610) with {'max_depth': 15, 'max_features': 12, 'min_samples_split': 3, 'n_estimators': 25}\n",
      "-0.275859 (0.018153) with {'max_depth': 15, 'max_features': 12, 'min_samples_split': 3, 'n_estimators': 50}\n",
      "-0.301949 (0.015656) with {'max_depth': 15, 'max_features': 12, 'min_samples_split': 4, 'n_estimators': 10}\n",
      "-0.284011 (0.023845) with {'max_depth': 15, 'max_features': 12, 'min_samples_split': 4, 'n_estimators': 25}\n",
      "-0.281451 (0.017604) with {'max_depth': 15, 'max_features': 12, 'min_samples_split': 4, 'n_estimators': 50}\n",
      "-0.288203 (0.026693) with {'max_depth': 15, 'max_features': 12, 'min_samples_split': 5, 'n_estimators': 10}\n",
      "-0.283551 (0.016113) with {'max_depth': 15, 'max_features': 12, 'min_samples_split': 5, 'n_estimators': 25}\n",
      "-0.283084 (0.020041) with {'max_depth': 15, 'max_features': 12, 'min_samples_split': 5, 'n_estimators': 50}\n"
     ]
    }
   ],
   "source": [
    "# all\n",
    "means = grid_result.cv_results_[\"mean_test_score\"]\n",
    "stds = grid_result.cv_results_[\"std_test_score\"]\n",
    "params = grid_result.cv_results_[\"params\"]\n",
    "for mean, stdev, param in zip(means, stds, params):\n",
    "    print(\"%f (%f) with %r\" % (mean, stdev, param))"
   ]
  },
  {
   "cell_type": "code",
   "execution_count": 108,
   "metadata": {},
   "outputs": [
    {
     "data": {
      "text/plain": [
       "RandomForestClassifier(bootstrap=True, ccp_alpha=0.0, class_weight=None,\n",
       "                       criterion='gini', max_depth=5, max_features=4,\n",
       "                       max_leaf_nodes=None, max_samples=None,\n",
       "                       min_impurity_decrease=0.0, min_impurity_split=None,\n",
       "                       min_samples_leaf=1, min_samples_split=4,\n",
       "                       min_weight_fraction_leaf=0.0, n_estimators=10,\n",
       "                       n_jobs=None, oob_score=False, random_state=63, verbose=0,\n",
       "                       warm_start=False)"
      ]
     },
     "execution_count": 108,
     "metadata": {},
     "output_type": "execute_result"
    }
   ],
   "source": [
    "# new model\n",
    "rf1 = RandomForestClassifier(max_depth = 5, max_features = 4, n_estimators = 10, random_state = 63, min_samples_split = 4)\n",
    "# Train the model on training data\n",
    "rf1.fit(rescaledX_train, Y_train)"
   ]
  },
  {
   "cell_type": "code",
   "execution_count": 109,
   "metadata": {},
   "outputs": [],
   "source": [
    "pred1 = rf1.predict(X_test_min_max)"
   ]
  },
  {
   "cell_type": "code",
   "execution_count": 110,
   "metadata": {},
   "outputs": [
    {
     "data": {
      "text/plain": [
       "0.6843575418994413"
      ]
     },
     "execution_count": 110,
     "metadata": {},
     "output_type": "execute_result"
    }
   ],
   "source": [
    "accuracy_score(Y_test, pred1)"
   ]
  },
  {
   "cell_type": "code",
   "execution_count": 111,
   "metadata": {},
   "outputs": [
    {
     "name": "stdout",
     "output_type": "stream",
     "text": [
      "[[694  44]\n",
      " [295  41]]\n",
      "              precision    recall  f1-score   support\n",
      "\n",
      "           0       0.70      0.94      0.80       738\n",
      "           1       0.48      0.12      0.19       336\n",
      "\n",
      "    accuracy                           0.68      1074\n",
      "   macro avg       0.59      0.53      0.50      1074\n",
      "weighted avg       0.63      0.68      0.61      1074\n",
      "\n"
     ]
    }
   ],
   "source": [
    "print(confusion_matrix(Y_test,pred1))\n",
    "print(classification_report(Y_test, pred1))"
   ]
  },
  {
   "cell_type": "markdown",
   "metadata": {},
   "source": [
    "# RandomizedSearchCV  "
   ]
  },
  {
   "cell_type": "code",
   "execution_count": 31,
   "metadata": {},
   "outputs": [],
   "source": [
    "from sklearn.model_selection import RandomizedSearchCV"
   ]
  },
  {
   "cell_type": "code",
   "execution_count": 32,
   "metadata": {},
   "outputs": [],
   "source": [
    "param = {\n",
    "    'n_estimators': [10,25,50,100,150],\n",
    "    'max_depth': [2,5,10,15,20],\n",
    "    'max_features': [4,8,12,16,20],\n",
    "    'min_samples_split':[2,3,4,5,6],\n",
    "    'min_samples_leaf':[1,2,3,4,5],\n",
    "}"
   ]
  },
  {
   "cell_type": "code",
   "execution_count": 33,
   "metadata": {},
   "outputs": [
    {
     "data": {
      "text/plain": [
       "{'n_estimators': 25,\n",
       " 'min_samples_split': 5,\n",
       " 'min_samples_leaf': 3,\n",
       " 'max_features': 4,\n",
       " 'max_depth': 10}"
      ]
     },
     "execution_count": 33,
     "metadata": {},
     "output_type": "execute_result"
    }
   ],
   "source": [
    "model= RandomForestClassifier()\n",
    "clf = RandomizedSearchCV(model, param, random_state=63, n_iter=50)\n",
    "search = clf.fit(rescaledX_train, Y_train)\n",
    "search.best_params_"
   ]
  },
  {
   "cell_type": "code",
   "execution_count": null,
   "metadata": {},
   "outputs": [],
   "source": [
    "# up to now best\n",
    "#rf2 = RandomForestClassifier(max_depth = 5, max_features = 20, n_estimators = 150, random_state = 63, min_samples_split = 6, min_samples_leaf = 2)"
   ]
  },
  {
   "cell_type": "code",
   "execution_count": 34,
   "metadata": {},
   "outputs": [
    {
     "data": {
      "text/plain": [
       "RandomForestClassifier(bootstrap=True, ccp_alpha=0.0, class_weight=None,\n",
       "                       criterion='gini', max_depth=10, max_features=4,\n",
       "                       max_leaf_nodes=None, max_samples=None,\n",
       "                       min_impurity_decrease=0.0, min_impurity_split=None,\n",
       "                       min_samples_leaf=2, min_samples_split=5,\n",
       "                       min_weight_fraction_leaf=0.0, n_estimators=150,\n",
       "                       n_jobs=None, oob_score=False, random_state=63, verbose=0,\n",
       "                       warm_start=False)"
      ]
     },
     "execution_count": 34,
     "metadata": {},
     "output_type": "execute_result"
    }
   ],
   "source": [
    "rf2 = RandomForestClassifier(max_depth = 10, max_features = 4, n_estimators = 150, random_state = 63, min_samples_split = 5, min_samples_leaf = 2)\n",
    "rf2.fit(rescaledX_train, Y_train)"
   ]
  },
  {
   "cell_type": "code",
   "execution_count": 35,
   "metadata": {},
   "outputs": [],
   "source": [
    "pred2 = rf2.predict(X_test_min_max)"
   ]
  },
  {
   "cell_type": "code",
   "execution_count": 36,
   "metadata": {},
   "outputs": [
    {
     "data": {
      "text/plain": [
       "0.7789086796720385"
      ]
     },
     "execution_count": 36,
     "metadata": {},
     "output_type": "execute_result"
    }
   ],
   "source": [
    "accuracy_score(Y_test, pred2)"
   ]
  },
  {
   "cell_type": "code",
   "execution_count": 37,
   "metadata": {},
   "outputs": [
    {
     "name": "stdout",
     "output_type": "stream",
     "text": [
      "[[2634   93]\n",
      " [ 689  121]]\n",
      "              precision    recall  f1-score   support\n",
      "\n",
      "           0       0.79      0.97      0.87      2727\n",
      "           1       0.57      0.15      0.24       810\n",
      "\n",
      "    accuracy                           0.78      3537\n",
      "   macro avg       0.68      0.56      0.55      3537\n",
      "weighted avg       0.74      0.78      0.73      3537\n",
      "\n"
     ]
    }
   ],
   "source": [
    "print(confusion_matrix(Y_test,pred2))\n",
    "print(classification_report(Y_test, pred2))"
   ]
  },
  {
   "cell_type": "code",
   "execution_count": 75,
   "metadata": {},
   "outputs": [
    {
     "data": {
      "text/plain": [
       "0.29268292682926833"
      ]
     },
     "execution_count": 75,
     "metadata": {},
     "output_type": "execute_result"
    }
   ],
   "source": [
    "f1_score(Y_test, pred2)"
   ]
  },
  {
   "cell_type": "code",
   "execution_count": 76,
   "metadata": {},
   "outputs": [
    {
     "data": {
      "text/plain": [
       "0.6850025947067981"
      ]
     },
     "execution_count": 76,
     "metadata": {},
     "output_type": "execute_result"
    }
   ],
   "source": [
    "f1_score(Y_test, pred2, average = \"weighted\")"
   ]
  },
  {
   "cell_type": "code",
   "execution_count": 77,
   "metadata": {},
   "outputs": [
    {
     "data": {
      "text/plain": [
       "0.5635703165542294"
      ]
     },
     "execution_count": 77,
     "metadata": {},
     "output_type": "execute_result"
    }
   ],
   "source": [
    "f1_score(Y_test, pred2, average = \"macro\")"
   ]
  },
  {
   "cell_type": "code",
   "execution_count": 78,
   "metadata": {},
   "outputs": [],
   "source": [
    "# generate a no skill prediction (majority class)\n",
    "ns_probs = [0 for _ in range(len(Y_test))]\n",
    "lr_probs = rf2.predict_proba(X_test)\n",
    "lr_probs = lr_probs[:, 1]\n",
    "# calculate scores\n",
    "ns_auc = roc_auc_score(Y_test, ns_probs)\n",
    "lr_auc = roc_auc_score(Y_test, lr_probs)"
   ]
  },
  {
   "cell_type": "code",
   "execution_count": 79,
   "metadata": {},
   "outputs": [
    {
     "name": "stdout",
     "output_type": "stream",
     "text": [
      "No Skill: ROC AUC=0.500\n",
      "Logistic: ROC AUC=0.574\n"
     ]
    }
   ],
   "source": [
    "print('No Skill: ROC AUC=%.3f' % (ns_auc))\n",
    "print('Logistic: ROC AUC=%.3f' % (lr_auc))"
   ]
  },
  {
   "cell_type": "code",
   "execution_count": 80,
   "metadata": {},
   "outputs": [
    {
     "data": {
      "image/png": "[encoded data removed]",
      "text/plain": [
       "<Figure size 432x288 with 1 Axes>"
      ]
     },
     "metadata": {
      "needs_background": "light"
     },
     "output_type": "display_data"
    }
   ],
   "source": [
    "# calculate roc curves\n",
    "ns_fpr, ns_tpr, _ = roc_curve(Y_test, ns_probs)\n",
    "lr_fpr, lr_tpr, _ = roc_curve(Y_test, lr_probs)\n",
    "# plot the roc curve for the model\n",
    "pyplot.plot(ns_fpr, ns_tpr, linestyle='--', label='Naive')\n",
    "pyplot.plot(lr_fpr, lr_tpr, marker='.', label='Logistic')\n",
    "# axis labels\n",
    "pyplot.xlabel('False Positive Rate')\n",
    "pyplot.ylabel('True Positive Rate')\n",
    "# show the legend\n",
    "pyplot.legend()\n",
    "# show the plot\n",
    "pyplot.show()"
   ]
  },
  {
   "cell_type": "code",
   "execution_count": 111,
   "metadata": {},
   "outputs": [
    {
     "data": {
      "image/png": "[encoded data removed]",
      "text/plain": [
       "<Figure size 576x684 with 1 Axes>"
      ]
     },
     "metadata": {
      "needs_background": "light"
     },
     "output_type": "display_data"
    }
   ],
   "source": [
    "explainer = shap.TreeExplainer(rf2)\n",
    "shap_values = explainer.shap_values(rescaledX_train)\n",
    "shap.summary_plot(shap_values, features=rescaledX_train, feature_names=columns)"
   ]
  },
  {
   "cell_type": "code",
   "execution_count": null,
   "metadata": {},
   "outputs": [],
   "source": []
  }
 ],
 "metadata": {
  "kernelspec": {
   "display_name": "Python 3",
   "language": "python",
   "name": "python3"
  },
  "language_info": {
   "codemirror_mode": {
    "name": "ipython",
    "version": 3
   },
   "file_extension": ".py",
   "mimetype": "text/x-python",
   "name": "python",
   "nbconvert_exporter": "python",
   "pygments_lexer": "ipython3",
   "version": "3.7.3"
  }
 },
 "nbformat": 4,
 "nbformat_minor": 2
}
